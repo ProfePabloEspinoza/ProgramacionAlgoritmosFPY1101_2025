{
 "cells": [
  {
   "cell_type": "markdown",
   "id": "5e1a39d6-59a0-4651-bdd6-fb65531aedee",
   "metadata": {},
   "source": [
    "programa que suma"
   ]
  },
  {
   "cell_type": "code",
   "execution_count": 3,
   "id": "9a8dab22-aa49-4479-8a72-3fe74400f3a7",
   "metadata": {},
   "outputs": [
    {
     "data": {
      "text/plain": [
       "4"
      ]
     },
     "execution_count": 3,
     "metadata": {},
     "output_type": "execute_result"
    }
   ],
   "source": [
    "2 + 2\n"
   ]
  },
  {
   "cell_type": "raw",
   "id": "06424cb3-cc07-4fc7-97e0-5f8c5d546f31",
   "metadata": {},
   "source": [
    "Programa que suma y resta"
   ]
  },
  {
   "cell_type": "code",
   "execution_count": 4,
   "id": "fa6fa749-119d-4f31-b5c0-b2746378456a",
   "metadata": {},
   "outputs": [
    {
     "name": "stdout",
     "output_type": "stream",
     "text": [
      "La suma es: 9\n",
      "La resta es: 1\n"
     ]
    }
   ],
   "source": [
    "a = 5\n",
    "b = 4\n",
    "\n",
    "suma = a + b\n",
    "resta = a - b\n",
    "\n",
    "print(f'La suma es: {suma}')\n",
    "print(f'La resta es: {resta}')"
   ]
  },
  {
   "cell_type": "code",
   "execution_count": null,
   "id": "905cc1f2-364c-4ba0-832e-ad4bf790e060",
   "metadata": {},
   "outputs": [],
   "source": []
  }
 ],
 "metadata": {
  "kernelspec": {
   "display_name": "Python 3 (ipykernel)",
   "language": "python",
   "name": "python3"
  },
  "language_info": {
   "codemirror_mode": {
    "name": "ipython",
    "version": 3
   },
   "file_extension": ".py",
   "mimetype": "text/x-python",
   "name": "python",
   "nbconvert_exporter": "python",
   "pygments_lexer": "ipython3",
   "version": "3.12.7"
  }
 },
 "nbformat": 4,
 "nbformat_minor": 5
}
