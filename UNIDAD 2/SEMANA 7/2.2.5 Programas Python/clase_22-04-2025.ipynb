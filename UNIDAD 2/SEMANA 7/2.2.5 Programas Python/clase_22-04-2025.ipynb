{
 "cells": [
  {
   "cell_type": "code",
   "execution_count": 2,
   "id": "6660cb53-6943-4833-b459-86f9b36b2686",
   "metadata": {},
   "outputs": [
    {
     "name": "stdout",
     "output_type": "stream",
     "text": [
      "la suma es: 15\n"
     ]
    }
   ],
   "source": [
    "# Suma\n",
    "\n",
    "num1 = 10\n",
    "num2 = 5\n",
    "\n",
    "suma = num1 + num2\n",
    "\n",
    "print(f'la suma es: {suma}')\n"
   ]
  },
  {
   "cell_type": "code",
   "execution_count": null,
   "id": "432654a8-b1f8-47ab-8b8b-34061da77bec",
   "metadata": {},
   "outputs": [],
   "source": []
  }
 ],
 "metadata": {
  "kernelspec": {
   "display_name": "Python 3 (ipykernel)",
   "language": "python",
   "name": "python3"
  },
  "language_info": {
   "codemirror_mode": {
    "name": "ipython",
    "version": 3
   },
   "file_extension": ".py",
   "mimetype": "text/x-python",
   "name": "python",
   "nbconvert_exporter": "python",
   "pygments_lexer": "ipython3",
   "version": "3.12.7"
  }
 },
 "nbformat": 4,
 "nbformat_minor": 5
}
