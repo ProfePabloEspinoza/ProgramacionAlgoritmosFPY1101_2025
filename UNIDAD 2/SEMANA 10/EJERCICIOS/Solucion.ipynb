{
 "cells": [
  {
   "cell_type": "code",
   "execution_count": null,
   "metadata": {
    "colab": {
     "base_uri": "https://localhost:8080/"
    },
    "executionInfo": {
     "elapsed": 11167,
     "status": "ok",
     "timestamp": 1682611670557,
     "user": {
      "displayName": "PABLO ESPINOZA",
      "userId": "00457953100726453984"
     },
     "user_tz": 240
    },
    "id": "wbDHDPV26R-P",
    "outputId": "6d6330fe-36eb-49d9-d1cb-785b30f913f5"
   },
   "outputs": [
    {
     "name": "stdout",
     "output_type": "stream",
     "text": [
      "Bienvenido a su programa de Transporte\n",
      "\n"
     ]
    },
    {
     "name": "stdin",
     "output_type": "stream",
     "text": [
      "cuantos paquetes desea enviar:  2\n",
      "Ingrese peso de paquete 1:  20\n",
      "Ingrese peso de paquete 2:  30\n"
     ]
    },
    {
     "name": "stdout",
     "output_type": "stream",
     "text": [
      "Paquete no puede pesar mas de 20 kilos o menor a 0 kilos\n"
     ]
    }
   ],
   "source": [
    "totalLiv = 0\n",
    "totalMed = 0\n",
    "totalPes = 0\n",
    "contLiv = 0\n",
    "contMed = 0\n",
    "contPes = 0\n",
    "intentos_fallidos = 0\n",
    "\n",
    "\n",
    "print(\"Bienvenido a su programa de Transporte\\n\")\n",
    "\n",
    "cont = int(input(\"cuantos paquetes desea enviar: \"))\n",
    "\n",
    "################################################################## \n",
    "# Valido si la cantidad de paquetes es mayor a cero\n",
    "\n",
    "if cont <= 0:\n",
    "  print('La cantidad de paquetes tiene que ser mayor a 0 ')\n",
    "\n",
    "  while True:\n",
    "    cont = int(input(\"cuantos paquetes desea enviar: \"))\n",
    "\n",
    "    if cont <= 0:\n",
    "      print('La cantidad de paquetes tiene que ser mayor a 0 ')\n",
    "    else:\n",
    "      break\n",
    "\n",
    "##################################################################\n",
    "\n",
    "for i in range(0,cont):  \n",
    "  \n",
    "  paquete = int(input(f\"Ingrese peso de paquete {i+1}: \")) \n",
    "\n",
    "  ## Valido que los paquetes no sea menor a cero ni mayor que 20\n",
    "  \n",
    "  if paquete in(1,2,3,4,5):\n",
    "       \n",
    "    totalLiv = totalLiv + 1000\n",
    "    contLiv = contLiv + 1\n",
    "\n",
    "  elif paquete in(6,7,8,9,10): \n",
    "    \n",
    "    totalMed = totalMed + 4500\n",
    "    contMed = contMed + 1\n",
    "\n",
    "  elif paquete in(11,12,13,14,15,16,17,18,19,20):\n",
    "    \n",
    "    totalPes = totalPes + 8000\n",
    "    contPes = contPes + 1\n",
    "\n",
    "  # opcional\n",
    "\n",
    "  while True:\n",
    "    if paquete >= 21 or paquete <= 0:\n",
    "      print(\"Paquete no puede pesar mas de 20 kilos o menor a 0 kilos\")\n",
    "      paquete = int(input(f\"Ingrese peso de paquete {i+1}: \"))\n",
    "\n",
    "    else:\n",
    "      i = i - 1\n",
    "      break\n",
    "\n",
    "\n",
    "  \"\"\"\n",
    "  else:\n",
    "\n",
    "    print(\"Paquete no puede pesar mas de 20 kilos o menor a 0 kilos\")\n",
    "\n",
    "    while True:\n",
    "      paquete = int(input(f\"Ingrese peso de paquete {i+1}: \"))\n",
    "\n",
    "      if paquete >= 21 or paquete <= 0:\n",
    "        print(\"Paquete no puede pesar mas de 20 kilos o menor a 0 kilos\")\n",
    "\n",
    "        intentos_fallidos = intentos_fallidos + 1 \n",
    "        total_fallidos = 0\n",
    "      else:\n",
    "        i = i - 1        \n",
    "        break \n",
    "  \"\"\"  \n",
    "\n",
    "print(\"\\n     Encomiendas     \")\n",
    "print(\"---------------------\")\n",
    "print(f\"{contLiv} bulto LIVIANO: ${totalLiv}\")\n",
    "print(f\"{contMed} bulto MEDIANO: ${totalMed}\")\n",
    "print(f\"{contPes} bulto PESADO : ${totalPes}\")\n",
    "print(\"---------------------\")\n",
    "print(f\"     Total:      ${totalLiv+totalMed+totalPes}\")\n",
    "#print(f'Intetos fallidos: {intentos_fallidos}')"
   ]
  },
  {
   "cell_type": "code",
   "execution_count": null,
   "metadata": {},
   "outputs": [],
   "source": []
  }
 ],
 "metadata": {
  "colab": {
   "authorship_tag": "ABX9TyPb3QZO6hMqV62+n78dbPjT",
   "provenance": []
  },
  "kernelspec": {
   "display_name": "Python [conda env:base] *",
   "language": "python",
   "name": "conda-base-py"
  },
  "language_info": {
   "codemirror_mode": {
    "name": "ipython",
    "version": 3
   },
   "file_extension": ".py",
   "mimetype": "text/x-python",
   "name": "python",
   "nbconvert_exporter": "python",
   "pygments_lexer": "ipython3",
   "version": "3.12.7"
  }
 },
 "nbformat": 4,
 "nbformat_minor": 4
}
