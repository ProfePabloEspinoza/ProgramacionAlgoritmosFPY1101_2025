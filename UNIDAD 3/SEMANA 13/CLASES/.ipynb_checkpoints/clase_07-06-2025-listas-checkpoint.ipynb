{
 "cells": [
  {
   "cell_type": "code",
   "execution_count": 1,
   "id": "33adb1bc-a186-4dea-9a6e-136172ed054d",
   "metadata": {},
   "outputs": [],
   "source": [
    "lista = []\n"
   ]
  },
  {
   "cell_type": "code",
   "execution_count": 3,
   "id": "83970f11-0b6e-4b15-b699-a1c9cfa5b4c7",
   "metadata": {},
   "outputs": [],
   "source": [
    "lista = [1, 'hola', 3.14, [1,2,3,4,5]]"
   ]
  },
  {
   "cell_type": "code",
   "execution_count": 4,
   "id": "d46c0beb-077a-4d62-8acc-efe71ea1efa1",
   "metadata": {},
   "outputs": [
    {
     "data": {
      "text/plain": [
       "'hola'"
      ]
     },
     "execution_count": 4,
     "metadata": {},
     "output_type": "execute_result"
    }
   ],
   "source": [
    "lista[1]"
   ]
  },
  {
   "cell_type": "code",
   "execution_count": 5,
   "id": "f94649a2-a78e-4804-abeb-149cae077993",
   "metadata": {},
   "outputs": [
    {
     "data": {
      "text/plain": [
       "[1, 2, 3, 4, 5]"
      ]
     },
     "execution_count": 5,
     "metadata": {},
     "output_type": "execute_result"
    }
   ],
   "source": [
    "lista[3]"
   ]
  },
  {
   "cell_type": "code",
   "execution_count": 6,
   "id": "7babf0c0-82a5-4f73-8356-fd70550135a8",
   "metadata": {},
   "outputs": [
    {
     "data": {
      "text/plain": [
       "4"
      ]
     },
     "execution_count": 6,
     "metadata": {},
     "output_type": "execute_result"
    }
   ],
   "source": [
    "lista[3][3]"
   ]
  },
  {
   "cell_type": "code",
   "execution_count": 7,
   "id": "2268a7ca-d0f4-4256-ad22-4f112e6ebaab",
   "metadata": {},
   "outputs": [
    {
     "data": {
      "text/plain": [
       "5"
      ]
     },
     "execution_count": 7,
     "metadata": {},
     "output_type": "execute_result"
    }
   ],
   "source": [
    "lista[3][4]"
   ]
  },
  {
   "cell_type": "code",
   "execution_count": 8,
   "id": "b9417ff4-f633-46af-a8d8-402dbe8689fd",
   "metadata": {},
   "outputs": [
    {
     "data": {
      "text/plain": [
       "5"
      ]
     },
     "execution_count": 8,
     "metadata": {},
     "output_type": "execute_result"
    }
   ],
   "source": [
    "lista[3][-1]"
   ]
  },
  {
   "cell_type": "code",
   "execution_count": 9,
   "id": "cb5c2238-78de-479f-8f80-c3d608a5a895",
   "metadata": {},
   "outputs": [],
   "source": [
    "lista.append('adios')"
   ]
  },
  {
   "cell_type": "code",
   "execution_count": 10,
   "id": "354d0cc0-6fea-407c-97f4-bb31b6473140",
   "metadata": {},
   "outputs": [
    {
     "data": {
      "text/plain": [
       "[1, 'hola', 3.14, [1, 2, 3, 4, 5], 'adios']"
      ]
     },
     "execution_count": 10,
     "metadata": {},
     "output_type": "execute_result"
    }
   ],
   "source": [
    "lista"
   ]
  },
  {
   "cell_type": "code",
   "execution_count": 11,
   "id": "bed7f183-0465-421d-bef9-2726e5270cf7",
   "metadata": {},
   "outputs": [],
   "source": [
    "lista.append(3)"
   ]
  },
  {
   "cell_type": "code",
   "execution_count": 12,
   "id": "efefc088-e53f-46a4-9aa4-dbe5f7492967",
   "metadata": {},
   "outputs": [],
   "source": [
    "lista.append(4)"
   ]
  },
  {
   "cell_type": "code",
   "execution_count": 14,
   "id": "a92ea010-2e3b-4dec-a47e-c3655ed63a41",
   "metadata": {},
   "outputs": [
    {
     "data": {
      "text/plain": [
       "[1, 'hola', 3.14, [1, 2, 3, 4, 5], 'adios', 3, 4]"
      ]
     },
     "execution_count": 14,
     "metadata": {},
     "output_type": "execute_result"
    }
   ],
   "source": [
    "lista"
   ]
  },
  {
   "cell_type": "code",
   "execution_count": 16,
   "id": "489b71ca-2a69-41a5-bae1-72dc5b5206ec",
   "metadata": {},
   "outputs": [
    {
     "data": {
      "text/plain": [
       "4"
      ]
     },
     "execution_count": 16,
     "metadata": {},
     "output_type": "execute_result"
    }
   ],
   "source": [
    "lista.pop()"
   ]
  },
  {
   "cell_type": "code",
   "execution_count": 17,
   "id": "ac325567-cdbd-4bce-a17e-feea3736cf4b",
   "metadata": {},
   "outputs": [
    {
     "data": {
      "text/plain": [
       "[1, 'hola', 3.14, [1, 2, 3, 4, 5], 'adios', 3]"
      ]
     },
     "execution_count": 17,
     "metadata": {},
     "output_type": "execute_result"
    }
   ],
   "source": [
    "lista"
   ]
  },
  {
   "cell_type": "code",
   "execution_count": 18,
   "id": "7f9d79b5-4f96-4b1a-b2a4-41b26916038c",
   "metadata": {},
   "outputs": [
    {
     "data": {
      "text/plain": [
       "'adios'"
      ]
     },
     "execution_count": 18,
     "metadata": {},
     "output_type": "execute_result"
    }
   ],
   "source": [
    "lista.pop(4)"
   ]
  },
  {
   "cell_type": "code",
   "execution_count": 19,
   "id": "b7a72448-9871-4cd7-b443-8679348bc80e",
   "metadata": {},
   "outputs": [
    {
     "data": {
      "text/plain": [
       "[1, 'hola', 3.14, [1, 2, 3, 4, 5], 3]"
      ]
     },
     "execution_count": 19,
     "metadata": {},
     "output_type": "execute_result"
    }
   ],
   "source": [
    "lista"
   ]
  },
  {
   "cell_type": "code",
   "execution_count": 20,
   "id": "fc773ede-9a55-4d05-ba36-75aaf21e2a56",
   "metadata": {},
   "outputs": [],
   "source": [
    "lista.remove('hola')"
   ]
  },
  {
   "cell_type": "code",
   "execution_count": 21,
   "id": "d41488f3-507f-45cc-902a-f1d8b3f8f11a",
   "metadata": {},
   "outputs": [
    {
     "data": {
      "text/plain": [
       "[1, 3.14, [1, 2, 3, 4, 5], 3]"
      ]
     },
     "execution_count": 21,
     "metadata": {},
     "output_type": "execute_result"
    }
   ],
   "source": [
    "lista"
   ]
  },
  {
   "cell_type": "code",
   "execution_count": 22,
   "id": "7d4a143d-e3fd-484b-b679-d8848f4d8499",
   "metadata": {},
   "outputs": [
    {
     "data": {
      "text/plain": [
       "4"
      ]
     },
     "execution_count": 22,
     "metadata": {},
     "output_type": "execute_result"
    }
   ],
   "source": [
    "len(lista)"
   ]
  },
  {
   "cell_type": "code",
   "execution_count": 26,
   "id": "237f882b-5b46-4dcc-b125-12a7707da1a0",
   "metadata": {},
   "outputs": [
    {
     "name": "stdout",
     "output_type": "stream",
     "text": [
      "1\n",
      "3.14\n",
      "[1, 2, 3, 4, 5]\n",
      "3\n"
     ]
    }
   ],
   "source": [
    "for l in lista:\n",
    "    print(l)"
   ]
  },
  {
   "cell_type": "code",
   "execution_count": null,
   "id": "9a7eaac6-df9d-4a12-ad15-9e070ee9a2f0",
   "metadata": {},
   "outputs": [],
   "source": []
  },
  {
   "cell_type": "code",
   "execution_count": 27,
   "id": "71937fac-b5e4-4cd1-ab60-c77642e29807",
   "metadata": {},
   "outputs": [
    {
     "ename": "NameError",
     "evalue": "name 'lista2' is not defined",
     "output_type": "error",
     "traceback": [
      "\u001b[1;31m---------------------------------------------------------------------------\u001b[0m",
      "\u001b[1;31mNameError\u001b[0m                                 Traceback (most recent call last)",
      "Cell \u001b[1;32mIn[27], line 1\u001b[0m\n\u001b[1;32m----> 1\u001b[0m lista2\n",
      "\u001b[1;31mNameError\u001b[0m: name 'lista2' is not defined"
     ]
    }
   ],
   "source": [
    "lista2"
   ]
  },
  {
   "cell_type": "code",
   "execution_count": 28,
   "id": "ac052ba7-309a-4e37-a3a9-149ea3938d67",
   "metadata": {},
   "outputs": [
    {
     "name": "stdout",
     "output_type": "stream",
     "text": [
      "el largo de la lista es: 4\n"
     ]
    }
   ],
   "source": [
    "print(f'el largo de la lista es: {len(lista)}')"
   ]
  },
  {
   "cell_type": "code",
   "execution_count": 29,
   "id": "059de7a8-bef2-46d4-953f-9e43f0c214aa",
   "metadata": {},
   "outputs": [
    {
     "name": "stdout",
     "output_type": "stream",
     "text": [
      "1.- agregar alumnos\n",
      "2.- Listar alumnos\n",
      "3.- eliminar alumnos\n",
      "4.- cantidad de alumnos\n",
      "5.- salir\n"
     ]
    },
    {
     "name": "stdin",
     "output_type": "stream",
     "text": [
      "ingrese una opcion del menu (1 - 5):  1\n"
     ]
    },
    {
     "name": "stdout",
     "output_type": "stream",
     "text": [
      "Agregar un alumnos\n",
      "1.- agregar alumnos\n",
      "2.- Listar alumnos\n",
      "3.- eliminar alumnos\n",
      "4.- cantidad de alumnos\n",
      "5.- salir\n"
     ]
    },
    {
     "name": "stdin",
     "output_type": "stream",
     "text": [
      "ingrese una opcion del menu (1 - 5):  2\n"
     ]
    },
    {
     "name": "stdout",
     "output_type": "stream",
     "text": [
      "Listar alumnos\n",
      "1.- agregar alumnos\n",
      "2.- Listar alumnos\n",
      "3.- eliminar alumnos\n",
      "4.- cantidad de alumnos\n",
      "5.- salir\n"
     ]
    },
    {
     "name": "stdin",
     "output_type": "stream",
     "text": [
      "ingrese una opcion del menu (1 - 5):  3\n"
     ]
    },
    {
     "name": "stdout",
     "output_type": "stream",
     "text": [
      "Elimina un alumnos\n",
      "1.- agregar alumnos\n",
      "2.- Listar alumnos\n",
      "3.- eliminar alumnos\n",
      "4.- cantidad de alumnos\n",
      "5.- salir\n"
     ]
    },
    {
     "name": "stdin",
     "output_type": "stream",
     "text": [
      "ingrese una opcion del menu (1 - 5):  4\n"
     ]
    },
    {
     "name": "stdout",
     "output_type": "stream",
     "text": [
      "Cantidad de alumnos\n",
      "1.- agregar alumnos\n",
      "2.- Listar alumnos\n",
      "3.- eliminar alumnos\n",
      "4.- cantidad de alumnos\n",
      "5.- salir\n"
     ]
    },
    {
     "name": "stdin",
     "output_type": "stream",
     "text": [
      "ingrese una opcion del menu (1 - 5):  t\n"
     ]
    },
    {
     "name": "stdout",
     "output_type": "stream",
     "text": [
      "elija una opcion valida..\n",
      "1.- agregar alumnos\n",
      "2.- Listar alumnos\n",
      "3.- eliminar alumnos\n",
      "4.- cantidad de alumnos\n",
      "5.- salir\n"
     ]
    },
    {
     "name": "stdin",
     "output_type": "stream",
     "text": [
      "ingrese una opcion del menu (1 - 5):  5\n"
     ]
    },
    {
     "name": "stdout",
     "output_type": "stream",
     "text": [
      "Saliendo....\n",
      "Fin del programa...\n"
     ]
    }
   ],
   "source": [
    "curso = []\n",
    "\n",
    "while True:\n",
    "\n",
    "    print('1.- agregar alumnos')\n",
    "    print('2.- Listar alumnos')\n",
    "    print('3.- eliminar alumnos')\n",
    "    print('4.- cantidad de alumnos')\n",
    "    print('5.- salir')\n",
    "\n",
    "    opcion = input('ingrese una opcion del menu (1 - 5): ')\n",
    "\n",
    "    if opcion == '1':\n",
    "        print('Agregar un alumnos')\n",
    "\n",
    "    elif opcion == '2':\n",
    "        print('Listar alumnos')\n",
    "\n",
    "    elif opcion == '3':\n",
    "        print('Elimina un alumnos')\n",
    "    elif opcion == '4':\n",
    "        print('Cantidad de alumnos')\n",
    "        \n",
    "    elif opcion == '5':\n",
    "        print('Saliendo....')\n",
    "        break\n",
    "    else: \n",
    "        print('elija una opcion valida..')\n",
    "        \n",
    "print('Fin del programa...')\n",
    "        \n",
    "\n",
    "\n",
    "\n",
    "\n",
    "\n",
    "\n",
    "\n",
    "\n",
    "\n",
    "\n",
    "\n",
    "\n",
    "\n",
    "\n",
    "\n",
    "\n",
    "\n",
    "\n",
    "    \n",
    "\n"
   ]
  },
  {
   "cell_type": "code",
   "execution_count": 38,
   "id": "beaeec12-573e-4ecb-88b8-71df8565ebd4",
   "metadata": {},
   "outputs": [
    {
     "name": "stdout",
     "output_type": "stream",
     "text": [
      "1.- agregar alumnos\n",
      "2.- Listar alumnos\n",
      "3.- eliminar alumnos\n",
      "4.- cantidad de alumnos\n",
      "5.- salir\n"
     ]
    },
    {
     "name": "stdin",
     "output_type": "stream",
     "text": [
      "ingrese una opcion del menu (1 - 5):  1\n"
     ]
    },
    {
     "name": "stdout",
     "output_type": "stream",
     "text": [
      "Agregar un alumnos\n"
     ]
    },
    {
     "name": "stdin",
     "output_type": "stream",
     "text": [
      "Ingrese el nombre del alumnos:  maria\n"
     ]
    },
    {
     "name": "stdout",
     "output_type": "stream",
     "text": [
      "Alumnos agregado con exito.....\n",
      "1.- agregar alumnos\n",
      "2.- Listar alumnos\n",
      "3.- eliminar alumnos\n",
      "4.- cantidad de alumnos\n",
      "5.- salir\n"
     ]
    },
    {
     "name": "stdin",
     "output_type": "stream",
     "text": [
      "ingrese una opcion del menu (1 - 5):  1\n"
     ]
    },
    {
     "name": "stdout",
     "output_type": "stream",
     "text": [
      "Agregar un alumnos\n"
     ]
    },
    {
     "name": "stdin",
     "output_type": "stream",
     "text": [
      "Ingrese el nombre del alumnos:  gabriela\n"
     ]
    },
    {
     "name": "stdout",
     "output_type": "stream",
     "text": [
      "Alumnos agregado con exito.....\n",
      "1.- agregar alumnos\n",
      "2.- Listar alumnos\n",
      "3.- eliminar alumnos\n",
      "4.- cantidad de alumnos\n",
      "5.- salir\n"
     ]
    },
    {
     "name": "stdin",
     "output_type": "stream",
     "text": [
      "ingrese una opcion del menu (1 - 5):  1\n"
     ]
    },
    {
     "name": "stdout",
     "output_type": "stream",
     "text": [
      "Agregar un alumnos\n"
     ]
    },
    {
     "name": "stdin",
     "output_type": "stream",
     "text": [
      "Ingrese el nombre del alumnos:  pamela\n"
     ]
    },
    {
     "name": "stdout",
     "output_type": "stream",
     "text": [
      "Alumnos agregado con exito.....\n",
      "1.- agregar alumnos\n",
      "2.- Listar alumnos\n",
      "3.- eliminar alumnos\n",
      "4.- cantidad de alumnos\n",
      "5.- salir\n"
     ]
    },
    {
     "name": "stdin",
     "output_type": "stream",
     "text": [
      "ingrese una opcion del menu (1 - 5):  2\n"
     ]
    },
    {
     "name": "stdout",
     "output_type": "stream",
     "text": [
      "Listar alumnos\n",
      "MARIA\n",
      "GABRIELA\n",
      "PAMELA\n",
      "1.- agregar alumnos\n",
      "2.- Listar alumnos\n",
      "3.- eliminar alumnos\n",
      "4.- cantidad de alumnos\n",
      "5.- salir\n"
     ]
    },
    {
     "name": "stdin",
     "output_type": "stream",
     "text": [
      "ingrese una opcion del menu (1 - 5):  3\n"
     ]
    },
    {
     "name": "stdout",
     "output_type": "stream",
     "text": [
      "Elimina un alumnos\n"
     ]
    },
    {
     "name": "stdin",
     "output_type": "stream",
     "text": [
      "Ingrese el nombre del alumnos que quiere eliminar:  maria\n"
     ]
    },
    {
     "name": "stdout",
     "output_type": "stream",
     "text": [
      "Se elimino exitosamente a MARIA\n",
      "Actualemnete en el curso quedan 2 alumnos en el curso\n",
      "1.- agregar alumnos\n",
      "2.- Listar alumnos\n",
      "3.- eliminar alumnos\n",
      "4.- cantidad de alumnos\n",
      "5.- salir\n"
     ]
    },
    {
     "name": "stdin",
     "output_type": "stream",
     "text": [
      "ingrese una opcion del menu (1 - 5):  5\n"
     ]
    },
    {
     "name": "stdout",
     "output_type": "stream",
     "text": [
      "Saliendo....\n",
      "Fin del programa...\n"
     ]
    }
   ],
   "source": [
    "cursos = []\n",
    "\n",
    "while True:\n",
    "\n",
    "    print('1.- agregar alumnos')\n",
    "    print('2.- Listar alumnos')\n",
    "    print('3.- eliminar alumnos')\n",
    "    print('4.- cantidad de alumnos')\n",
    "    print('5.- salir')\n",
    "\n",
    "    opcion = input('ingrese una opcion del menu (1 - 5): ')\n",
    "\n",
    "    if opcion == '1':\n",
    "        print('Agregar un alumnos')\n",
    "\n",
    "        alumno = input('Ingrese el nombre del alumnos: ').upper()\n",
    "\n",
    "        cursos.append(alumno)\n",
    "\n",
    "        print('Alumnos agregado con exito.....')\n",
    "\n",
    "    elif opcion == '2':\n",
    "        print('Listar alumnos')\n",
    "\n",
    "        if len(cursos) == 0:\n",
    "            print('No existe alumnos registrados en el curso')\n",
    "        else: \n",
    "            for c in cursos:\n",
    "                print(c)\n",
    "\n",
    "    elif opcion == '3':\n",
    "        print('Elimina un alumnos')\n",
    "\n",
    "        alumno = input('Ingrese el nombre del alumnos que quiere eliminar: ').upper()\n",
    "\n",
    "        if alumno not in cursos:\n",
    "            print('El alumnos no se encuentra en el curso.')\n",
    "        else:        \n",
    "            cursos.remove(alumno)\n",
    "            print(f'Se elimino exitosamente a {alumno}')\n",
    "            print(f'Actualemnete en el curso quedan {len(cursos)} alumnos en el curso')            \n",
    "        \n",
    "    elif opcion == '4':\n",
    "        print(f'El curso tiene {len(cursos)} alumnos')\n",
    "        \n",
    "    elif opcion == '5':\n",
    "        print('Saliendo....')\n",
    "        break\n",
    "    else: \n",
    "        print('elija una opcion valida..')\n",
    "        \n",
    "print('Fin del programa...')"
   ]
  },
  {
   "cell_type": "code",
   "execution_count": null,
   "id": "b1bc847d-aeed-4a63-a629-223cad3a0a80",
   "metadata": {},
   "outputs": [],
   "source": []
  }
 ],
 "metadata": {
  "kernelspec": {
   "display_name": "Python [conda env:base] *",
   "language": "python",
   "name": "conda-base-py"
  },
  "language_info": {
   "codemirror_mode": {
    "name": "ipython",
    "version": 3
   },
   "file_extension": ".py",
   "mimetype": "text/x-python",
   "name": "python",
   "nbconvert_exporter": "python",
   "pygments_lexer": "ipython3",
   "version": "3.12.7"
  }
 },
 "nbformat": 4,
 "nbformat_minor": 5
}
