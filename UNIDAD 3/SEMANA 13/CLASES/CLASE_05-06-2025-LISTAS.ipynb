{
 "cells": [
  {
   "cell_type": "code",
   "execution_count": 1,
   "id": "66d6e28e-43a9-4b65-b422-255799b4e5b1",
   "metadata": {},
   "outputs": [],
   "source": [
    "lista = [1, 'hola', 3.64, [1,2,3]]\n"
   ]
  },
  {
   "cell_type": "code",
   "execution_count": 5,
   "id": "de8c3647-7955-4083-be23-195b5618adb6",
   "metadata": {},
   "outputs": [
    {
     "data": {
      "text/plain": [
       "[1, 'hola', 3.64, [1, 2, 3]]"
      ]
     },
     "execution_count": 5,
     "metadata": {},
     "output_type": "execute_result"
    }
   ],
   "source": [
    "lista"
   ]
  },
  {
   "cell_type": "code",
   "execution_count": 3,
   "id": "c8376dd7-a037-4ae1-a29a-14eaaf333436",
   "metadata": {},
   "outputs": [
    {
     "data": {
      "text/plain": [
       "3"
      ]
     },
     "execution_count": 3,
     "metadata": {},
     "output_type": "execute_result"
    }
   ],
   "source": [
    "lista[3][2]"
   ]
  },
  {
   "cell_type": "code",
   "execution_count": 4,
   "id": "5b36ae88-3709-42c8-9897-3dabb11e394b",
   "metadata": {},
   "outputs": [
    {
     "data": {
      "text/plain": [
       "1"
      ]
     },
     "execution_count": 4,
     "metadata": {},
     "output_type": "execute_result"
    }
   ],
   "source": [
    "lista[3][0]"
   ]
  },
  {
   "cell_type": "code",
   "execution_count": 6,
   "id": "c61d3d5b-17b8-4afc-84b8-8d94caac2112",
   "metadata": {},
   "outputs": [
    {
     "data": {
      "text/plain": [
       "3"
      ]
     },
     "execution_count": 6,
     "metadata": {},
     "output_type": "execute_result"
    }
   ],
   "source": [
    "lista[3][-1]"
   ]
  },
  {
   "cell_type": "code",
   "execution_count": 7,
   "id": "e9d47451-df3e-4d02-98ea-5712b0a4605d",
   "metadata": {},
   "outputs": [
    {
     "data": {
      "text/plain": [
       "2"
      ]
     },
     "execution_count": 7,
     "metadata": {},
     "output_type": "execute_result"
    }
   ],
   "source": [
    "lista[3][-2]"
   ]
  },
  {
   "cell_type": "code",
   "execution_count": 8,
   "id": "cf57f31f-61b1-47b9-b4e3-199748bab64c",
   "metadata": {},
   "outputs": [],
   "source": [
    "lista = [1, 'hola', 3.64, [1,2,3]]"
   ]
  },
  {
   "cell_type": "code",
   "execution_count": 9,
   "id": "66b25eec-c4fb-4ebc-a868-4110b6336a27",
   "metadata": {},
   "outputs": [
    {
     "name": "stdout",
     "output_type": "stream",
     "text": [
      "1\n",
      "hola\n",
      "3.64\n",
      "[1, 2, 3]\n"
     ]
    }
   ],
   "source": [
    "for l in lista:\n",
    "    print(l)"
   ]
  },
  {
   "cell_type": "code",
   "execution_count": 10,
   "id": "d2d9628e-ac9c-49fa-a2ce-0b55a9bc6330",
   "metadata": {},
   "outputs": [
    {
     "data": {
      "text/plain": [
       "4"
      ]
     },
     "execution_count": 10,
     "metadata": {},
     "output_type": "execute_result"
    }
   ],
   "source": [
    "len(lista)"
   ]
  },
  {
   "cell_type": "code",
   "execution_count": 11,
   "id": "449503a4-43fd-4bbb-8473-94b2c7462120",
   "metadata": {},
   "outputs": [
    {
     "name": "stdout",
     "output_type": "stream",
     "text": [
      "la cantidad de elementos de la lista es: 4\n"
     ]
    }
   ],
   "source": [
    "print(f'la cantidad de elementos de la lista es: {len(lista)}')"
   ]
  },
  {
   "cell_type": "code",
   "execution_count": 12,
   "id": "e4654d79-93d1-46c8-9eca-d3604ae5dc00",
   "metadata": {},
   "outputs": [],
   "source": [
    "lista.append(True)"
   ]
  },
  {
   "cell_type": "code",
   "execution_count": 13,
   "id": "fea9312a-112e-437d-a243-d616ef101192",
   "metadata": {},
   "outputs": [
    {
     "data": {
      "text/plain": [
       "[1, 'hola', 3.64, [1, 2, 3], True]"
      ]
     },
     "execution_count": 13,
     "metadata": {},
     "output_type": "execute_result"
    }
   ],
   "source": [
    "lista"
   ]
  },
  {
   "cell_type": "code",
   "execution_count": 14,
   "id": "c6699b84-b8ac-43eb-9719-e3ff63ace0c0",
   "metadata": {},
   "outputs": [
    {
     "name": "stdout",
     "output_type": "stream",
     "text": [
      "1\n",
      "hola\n",
      "3.64\n",
      "[1, 2, 3]\n",
      "True\n"
     ]
    }
   ],
   "source": [
    "for l in lista:\n",
    "    print(l)"
   ]
  },
  {
   "cell_type": "code",
   "execution_count": 16,
   "id": "306df712-ebd2-4140-ae2f-4bda0474ad3b",
   "metadata": {},
   "outputs": [
    {
     "data": {
      "text/plain": [
       "True"
      ]
     },
     "execution_count": 16,
     "metadata": {},
     "output_type": "execute_result"
    }
   ],
   "source": [
    "lista.pop()  # elimina el ultimo elemento de la lista"
   ]
  },
  {
   "cell_type": "code",
   "execution_count": 17,
   "id": "4b9bb885-1a23-4ed5-8bea-7bb7346052ce",
   "metadata": {},
   "outputs": [
    {
     "data": {
      "text/plain": [
       "[1, 'hola', 3.64, [1, 2, 3]]"
      ]
     },
     "execution_count": 17,
     "metadata": {},
     "output_type": "execute_result"
    }
   ],
   "source": [
    "lista"
   ]
  },
  {
   "cell_type": "code",
   "execution_count": 18,
   "id": "9537a1a9-ebf6-4de6-b8e5-7e2e886915db",
   "metadata": {},
   "outputs": [
    {
     "data": {
      "text/plain": [
       "'hola'"
      ]
     },
     "execution_count": 18,
     "metadata": {},
     "output_type": "execute_result"
    }
   ],
   "source": [
    "lista.pop(1)"
   ]
  },
  {
   "cell_type": "code",
   "execution_count": 19,
   "id": "f8946708-9335-44c7-8bd8-fbf1c46d3693",
   "metadata": {},
   "outputs": [
    {
     "data": {
      "text/plain": [
       "[1, 3.64, [1, 2, 3]]"
      ]
     },
     "execution_count": 19,
     "metadata": {},
     "output_type": "execute_result"
    }
   ],
   "source": [
    "lista"
   ]
  },
  {
   "cell_type": "code",
   "execution_count": 20,
   "id": "39046ef9-ddca-473f-bd27-8639f09d4af0",
   "metadata": {},
   "outputs": [
    {
     "data": {
      "text/plain": [
       "3"
      ]
     },
     "execution_count": 20,
     "metadata": {},
     "output_type": "execute_result"
    }
   ],
   "source": [
    "len(lista)"
   ]
  },
  {
   "cell_type": "code",
   "execution_count": null,
   "id": "c0328e1c-3840-4772-b704-f938249022d2",
   "metadata": {},
   "outputs": [
    {
     "name": "stdout",
     "output_type": "stream",
     "text": [
      "1.- Agregar alumno\n",
      "2.- Listar alumno\n",
      "3.- borrar alumno\n",
      "4.- salir\n"
     ]
    },
    {
     "name": "stdin",
     "output_type": "stream",
     "text": [
      "seleccione una opcion:  1\n",
      "Ingrese el nombre del alumno:  valentina\n"
     ]
    },
    {
     "name": "stdout",
     "output_type": "stream",
     "text": [
      "1.- Agregar alumno\n",
      "2.- Listar alumno\n",
      "3.- borrar alumno\n",
      "4.- salir\n"
     ]
    },
    {
     "name": "stdin",
     "output_type": "stream",
     "text": [
      "seleccione una opcion:  1\n",
      "Ingrese el nombre del alumno:  pablo\n"
     ]
    },
    {
     "name": "stdout",
     "output_type": "stream",
     "text": [
      "1.- Agregar alumno\n",
      "2.- Listar alumno\n",
      "3.- borrar alumno\n",
      "4.- salir\n"
     ]
    },
    {
     "name": "stdin",
     "output_type": "stream",
     "text": [
      "seleccione una opcion:  2\n"
     ]
    },
    {
     "name": "stdout",
     "output_type": "stream",
     "text": [
      "valentina\n",
      "pablo\n",
      "1.- Agregar alumno\n",
      "2.- Listar alumno\n",
      "3.- borrar alumno\n",
      "4.- salir\n"
     ]
    },
    {
     "name": "stdin",
     "output_type": "stream",
     "text": [
      "seleccione una opcion:  3\n",
      "Ingrese el alumno a eliminar:  pablo\n"
     ]
    },
    {
     "name": "stdout",
     "output_type": "stream",
     "text": [
      "1.- Agregar alumno\n",
      "2.- Listar alumno\n",
      "3.- borrar alumno\n",
      "4.- salir\n"
     ]
    },
    {
     "name": "stdin",
     "output_type": "stream",
     "text": [
      "seleccione una opcion:  2\n"
     ]
    },
    {
     "name": "stdout",
     "output_type": "stream",
     "text": [
      "valentina\n",
      "1.- Agregar alumno\n",
      "2.- Listar alumno\n",
      "3.- borrar alumno\n",
      "4.- salir\n"
     ]
    }
   ],
   "source": [
    "curso = []\n",
    "\n",
    "while True:\n",
    "\n",
    "    print('1.- Agregar alumno')\n",
    "    print('2.- Listar alumno')\n",
    "    print('3.- borrar alumno')\n",
    "    print('4.- salir')\n",
    "\n",
    "    opcion = input('seleccione una opcion: ')\n",
    "\n",
    "    if opcion == '1':\n",
    "        \n",
    "        nombre = input('Ingrese el nombre del alumno: ')    \n",
    "        curso.append(nombre)\n",
    "    \n",
    "        \n",
    "    elif opcion == '2':\n",
    "        for c in curso:\n",
    "            print(c)\n",
    "            \n",
    "    elif opcion == '3':\n",
    "        nombre = input('Ingrese el alumno a eliminar: ')        \n",
    "        \n",
    "        curso.remove(nombre)\n",
    "        \n",
    "    elif opcion == '4':\n",
    "        print('Saliendo....')\n",
    "        break\n",
    "    else:\n",
    "        print('Elija una opcion valida')\n",
    "\n",
    "\n",
    "print('Fin de programa....')\n",
    "\n",
    "    \n",
    "    \n",
    "\n",
    "\n",
    "\n"
   ]
  },
  {
   "cell_type": "code",
   "execution_count": null,
   "id": "edffef1a-7d5f-48ef-a85c-b6688a907c64",
   "metadata": {},
   "outputs": [],
   "source": []
  }
 ],
 "metadata": {
  "kernelspec": {
   "display_name": "Python [conda env:base] *",
   "language": "python",
   "name": "conda-base-py"
  },
  "language_info": {
   "codemirror_mode": {
    "name": "ipython",
    "version": 3
   },
   "file_extension": ".py",
   "mimetype": "text/x-python",
   "name": "python",
   "nbconvert_exporter": "python",
   "pygments_lexer": "ipython3",
   "version": "3.12.7"
  }
 },
 "nbformat": 4,
 "nbformat_minor": 5
}
